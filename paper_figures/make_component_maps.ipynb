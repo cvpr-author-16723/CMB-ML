{
 "cells": [
  {
   "cell_type": "markdown",
   "metadata": {},
   "source": [
    "# PySM3 Component Examinations - Make Component Maps"
   ]
  },
  {
   "cell_type": "markdown",
   "metadata": {},
   "source": [
    "This notebook produces maps for each of the components.\n",
    "\n",
    "We do not find any spatial variation, for any $N_{side} \\in \\{64, 1024, 2048\\}$, using the components `[\"d9\", \"s4\", \"f1\", \"a1\", \"co1\", \"cib1\", \"ksz1\", \"tsz1\", \"rg1\", \"d1\", \"s1\"]`"
   ]
  },
  {
   "cell_type": "markdown",
   "metadata": {},
   "source": [
    "# Parameters"
   ]
  },
  {
   "cell_type": "code",
   "execution_count": 1,
   "metadata": {},
   "outputs": [],
   "source": [
    "# For loading from cmbml directory (temporary solution)\n",
    "import sys\n",
    "import os\n",
    "\n",
    "repo_root = os.path.abspath(os.path.join(os.getcwd(), \"..\"))\n",
    "sys.path.insert(0, repo_root)"
   ]
  },
  {
   "cell_type": "code",
   "execution_count": null,
   "metadata": {},
   "outputs": [],
   "source": [
    "import hydra\n",
    "from hydra import compose, initialize\n",
    "from omegaconf import DictConfig, OmegaConf\n",
    "os.environ['CMB_ML_LOCAL_SYSTEM'] = 'generic_lab'\n",
    "hydra.core.global_hydra.GlobalHydra.instance().clear() # if re-initialize is needed, clear the global hydra instance (in case of multiple calls to initialize)\n",
    "\n",
    "initialize(version_base=None, config_path=\"../cfg\")\n",
    "\n",
    "cfg = compose(config_name='config_comp_models.yaml')"
   ]
  },
  {
   "cell_type": "code",
   "execution_count": 2,
   "metadata": {},
   "outputs": [],
   "source": [
    "from pathlib import Path\n",
    "\n",
    "component_maps_dir = Path(cfg.local_system.datasets_root) / \"ComponentMaps\""
   ]
  },
  {
   "cell_type": "markdown",
   "metadata": {},
   "source": [
    "## Imports and Set-Up"
   ]
  },
  {
   "cell_type": "code",
   "execution_count": 3,
   "metadata": {},
   "outputs": [],
   "source": [
    "# For loading from cmbml directory (temporary solution)\n",
    "import sys\n",
    "import os\n",
    "\n",
    "repo_root = os.path.abspath(os.path.join(os.getcwd(), \"..\"))\n",
    "sys.path.insert(0, repo_root)"
   ]
  },
  {
   "cell_type": "code",
   "execution_count": 4,
   "metadata": {},
   "outputs": [],
   "source": [
    "import numpy as np\n",
    "import pandas as pd\n",
    "\n",
    "from tqdm import tqdm\n",
    "import matplotlib.pyplot as plt\n",
    "\n",
    "import healpy as hp\n",
    "import pysm3\n",
    "import pysm3.units as u"
   ]
  },
  {
   "cell_type": "code",
   "execution_count": 5,
   "metadata": {},
   "outputs": [],
   "source": [
    "prop_cycle = plt.rcParams['axes.prop_cycle']\n",
    "colors = prop_cycle.by_key()['color']\n",
    "del prop_cycle  # clean up namespace"
   ]
  },
  {
   "cell_type": "code",
   "execution_count": 6,
   "metadata": {},
   "outputs": [],
   "source": [
    "# Swallow downgrade errors.  TODO: Why are there downgrade errors?\n",
    "import logging\n",
    "\n",
    "class LoggingContextManager:\n",
    "    def __init__(self, filename, level=logging.WARNING, exit_msg=None):\n",
    "        self.filename = filename\n",
    "        self.level = level\n",
    "        self.exit_msg = exit_msg\n",
    "        self.first_issue_notified = False\n",
    "        self.issue_occurred = False\n",
    "        self.logger = logging.getLogger()\n",
    "        self.file_handler = logging.FileHandler(filename)\n",
    "        self.file_handler.setLevel(level)\n",
    "        self.file_handler.setFormatter(logging.Formatter('%(asctime)s - %(levelname)s - %(message)s'))\n",
    "        self.original_handlers = None\n",
    "\n",
    "    def __enter__(self):\n",
    "        self.original_handlers = self.logger.handlers[:]\n",
    "        # Set the logger to the lowest possible level during the context to ensure all messages are processed\n",
    "        self.logger.setLevel(logging.DEBUG)\n",
    "        self.logger.handlers = []  # Remove existing handlers to avoid duplicate logs\n",
    "        self.logger.addHandler(self.file_handler)\n",
    "        self.logger.addFilter(self.process_notification)  # Add custom filter\n",
    "        return self\n",
    "\n",
    "    def __exit__(self, exc_type, exc_value, traceback):\n",
    "        self.logger.removeHandler(self.file_handler)\n",
    "        self.logger.handlers = self.original_handlers  # Restore original handlers\n",
    "        self.file_handler.close()\n",
    "        if self.issue_occurred:\n",
    "            print(self.exit_msg or \"End of processing: Issues were logged during the session.\")\n",
    "\n",
    "    def process_notification(self, record):\n",
    "        \"\"\"Custom filter to process notifications for the first issue.\"\"\"\n",
    "        if record.levelno >= self.level:\n",
    "            if not self.first_issue_notified:\n",
    "                print(f\"First issue encountered; check {self.filename} for more information.\")\n",
    "                self.first_issue_notified = True\n",
    "            self.issue_occurred = True\n",
    "        return True  # Always return True to ensure all messages are logged\n",
    "\n",
    "# Setup basic configuration for logging\n",
    "logging.basicConfig(level=logging.DEBUG, format='%(asctime)s - %(levelname)s - %(message)s')"
   ]
  },
  {
   "cell_type": "markdown",
   "metadata": {},
   "source": [
    "## Parameters"
   ]
  },
  {
   "cell_type": "code",
   "execution_count": 7,
   "metadata": {},
   "outputs": [],
   "source": [
    "nside_sky = 2048\n",
    "nside_out = 1024\n",
    "\n",
    "component_maps_dir = component_maps_dir / f\"sky{nside_sky}_out{nside_out}\"\n",
    "component_maps_dir.mkdir(exist_ok=True, parents=True)"
   ]
  },
  {
   "cell_type": "code",
   "execution_count": 8,
   "metadata": {},
   "outputs": [],
   "source": [
    "target_freqs = [30, 44, 70, 100, 143, 217, 353, 545, 857]\n",
    "# target_freqs = [100]  # [30, 44, 70, 100, 143, 217, 353, 545, 857]  # Debugging line\n",
    "target_freqs = [f * u.GHz for f in target_freqs]"
   ]
  },
  {
   "cell_type": "code",
   "execution_count": 9,
   "metadata": {},
   "outputs": [],
   "source": [
    "# components = [\"c1\"]  # Debugging line\n",
    "components = [\"d9\", \"s4\", \"f1\", \"a1\", \"co1\", \"cib1\", \"ksz1\", \"tsz1\", \"rg1\", \"d1\", \"s1\", \"c1\"]"
   ]
  },
  {
   "cell_type": "code",
   "execution_count": 10,
   "metadata": {},
   "outputs": [],
   "source": [
    "# For PySM3 Sky Model\n",
    "# lmax = 3 * nside_sky - 1\n",
    "lmax = int(2.5 * nside_sky)\n",
    "beam_fwhm = 3 * hp.nside2resol(nside_out, arcmin=True) * u.arcmin\n",
    "# beam_fwhm = 5.0 * u.arcmin"
   ]
  },
  {
   "cell_type": "markdown",
   "metadata": {},
   "source": [
    "# Producing Maps"
   ]
  },
  {
   "cell_type": "markdown",
   "metadata": {},
   "source": [
    "Warning! At `nside_sky=2048`, this takes 2.5 hours!"
   ]
  },
  {
   "cell_type": "code",
   "execution_count": null,
   "metadata": {},
   "outputs": [],
   "source": [
    "# Produce maps, save them to disk, for limited RAM usage\n",
    "# map_dict = {}\n",
    "n_sims = 1  # Use n_sims > 1 so we can check for spatial variation. Spoiler: There is none.\n",
    "pbar = tqdm(total=n_sims * len(components) * len(target_freqs), desc=\"Processing components and frequencies\")\n",
    "\n",
    "# PySM3 throws a warning for each of the calls to apply_smoothing_and_coord_transform(). I'm ok with the lack of convergence.\n",
    "with LoggingContextManager(\"pysm3_warnings.log\", exit_msg=\"End of processing: Warnings were logged during the session.\") as log:\n",
    "    for sim_num in range(n_sims):\n",
    "        np.random.seed(sim_num)\n",
    "        for comp in components:\n",
    "            sky = pysm3.Sky(nside=nside_sky, preset_strings=[comp])\n",
    "            for freq in target_freqs:\n",
    "                sky_observed = sky.get_emission(freq)\n",
    "                if nside_sky != nside_out:\n",
    "                    # Downgrade the map to the output nside; PySM3 has this as a catch-all function, because it operates in alm space internally\n",
    "                    sky_map = pysm3.apply_smoothing_and_coord_transform(sky_observed[0],\n",
    "                                                                        fwhm=beam_fwhm,\n",
    "                                                                        lmax=lmax,\n",
    "                                                                        output_nside=nside_out)\n",
    "                    sky_map = sky_map.to(u.uK_CMB, equivalencies=u.cmb_equivalencies(freq))\n",
    "                np.save(component_maps_dir / f\"sim{sim_num}_{comp}_{freq.value}GHz.npy\", sky_map.data)\n",
    "                pbar.update(1)\n",
    "del sky, sky_observed, freq, comp, pbar  # Clean up namespace"
   ]
  }
 ],
 "metadata": {
  "kernelspec": {
   "display_name": "lost_in_space",
   "language": "python",
   "name": "python3"
  },
  "language_info": {
   "codemirror_mode": {
    "name": "ipython",
    "version": 3
   },
   "file_extension": ".py",
   "mimetype": "text/x-python",
   "name": "python",
   "nbconvert_exporter": "python",
   "pygments_lexer": "ipython3",
   "version": "3.12.5"
  }
 },
 "nbformat": 4,
 "nbformat_minor": 2
}

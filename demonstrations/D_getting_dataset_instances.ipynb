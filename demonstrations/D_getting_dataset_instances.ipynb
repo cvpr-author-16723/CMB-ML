{
 "cells": [
  {
   "cell_type": "markdown",
   "metadata": {},
   "source": [
    "# Getting Dataset Instances\n",
    "\n",
    "Now that your local system is set up, we can examine some of the dataset instances.\n",
    "\n",
    "We'll cover downloading an instance, loading the data, and some initial looks at the data."
   ]
  },
  {
   "cell_type": "markdown",
   "metadata": {},
   "source": [
    "<span style=\"color:red; font-size:24px;\">Because of issues with downloading data, this notebook is read-only.</span>"
   ]
  },
  {
   "cell_type": "markdown",
   "metadata": {},
   "source": [
    "## Downloading an Instance\n",
    "\n",
    "Two datasets are provided: a low-resolution $\\text{N}_\\text{side}=128$ and a higher resolution $\\text{N}_\\text{side}=512$ dataset. It's faster and easier to work with the lower resolution dataset, so we'll use that for the first few examples here. We'll use the higher resolution dataset at the end as well."
   ]
  },
  {
   "cell_type": "markdown",
   "metadata": {},
   "source": [
    "First, we'll set up the configuration, by loading it from a config file."
   ]
  },
  {
   "cell_type": "code",
   "execution_count": 6,
   "metadata": {},
   "outputs": [],
   "source": [
    "import os\n",
    "import hydra\n",
    "from hydra import compose, initialize\n",
    "from omegaconf import OmegaConf\n",
    "\n",
    "# Set the environment variable, only effective for this notebook.\n",
    "os.environ['CMB_ML_LOCAL_SYSTEM'] = 'generic_lab'\n",
    "hydra.core.global_hydra.GlobalHydra.instance().clear() # if re-initialize is needed, clear the global hydra instance (in case of multiple calls to initialize)\n",
    "\n",
    "initialize(version_base=None, config_path=\"../cfg\")\n",
    "\n",
    "cfg = compose(config_name='config_demo_dataset.yaml',\n",
    "              overrides=['nside=128', 'map_fields=\"I\"'])"
   ]
  },
  {
   "cell_type": "code",
   "execution_count": 7,
   "metadata": {},
   "outputs": [
    {
     "name": "stdout",
     "output_type": "stream",
     "text": [
      "local_system:\n",
      "  datasets_root: /data/generic_user/CMB_Data/Datasets/\n",
      "  assets_dir: /data/generic_user/CMB_Data/Assets/\n",
      "file_system:\n",
      "  sim_folder_prefix: sim\n",
      "  sim_str_num_digits: 4\n",
      "  dataset_template_str: '{root}/{dataset}/'\n",
      "  default_dataset_template_str: '{root}/{dataset}/{stage}/{split}/{sim}'\n",
      "  working_dataset_template_str: '{root}/{dataset}/{working}{stage}/{split}/{sim}'\n",
      "  subdir_for_log_scripts: scripts\n",
      "  log_dataset_template_str: '{root}/{dataset}/{hydra_run_dir}'\n",
      "  log_stage_template_str: '{root}/{dataset}/{working}{stage}/{hydra_run_dir}'\n",
      "  top_level_work_template_str: '{root}/{dataset}/{stage}/{hydra_run_dir}'\n",
      "  wmap_chains_dir: WMAP/wmap_lcdm_mnu_wmap9_chains_v5\n",
      "scenario:\n",
      "  nside: 128\n",
      "  detector_freqs:\n",
      "  - 30\n",
      "  - 44\n",
      "  - 70\n",
      "  - 100\n",
      "  - 143\n",
      "  - 217\n",
      "  - 353\n",
      "  - 545\n",
      "  - 857\n",
      "  map_fields: I\n",
      "  precision: float\n",
      "  units: uK_CMB\n",
      "  full_instrument:\n",
      "    30: IQU\n",
      "    44: IQU\n",
      "    70: IQU\n",
      "    100: IQU\n",
      "    143: IQU\n",
      "    217: IQU\n",
      "    353: IQU\n",
      "    545: I\n",
      "    857: I\n",
      "splits:\n",
      "  name: '1450'\n",
      "  Train:\n",
      "    n_sims: 1000\n",
      "  Valid:\n",
      "    n_sims: 250\n",
      "  Test:\n",
      "    n_sims: 200\n",
      "dataset_name: I_128_1450\n",
      "working_dir: Simulation_Working/\n",
      "force_download: false\n",
      "nside: 128\n",
      "detectors:\n",
      "- 30\n",
      "- 44\n",
      "- 70\n",
      "- 100\n",
      "- 143\n",
      "- 217\n",
      "- 353\n",
      "- 545\n",
      "- 857\n",
      "map_fields: I\n",
      "\n"
     ]
    }
   ],
   "source": [
    "print(OmegaConf.to_yaml(cfg, resolve=True))"
   ]
  },
  {
   "cell_type": "markdown",
   "metadata": {},
   "source": [
    "Results look like:\n",
    "\n",
    "```\n",
    "local_system:\n",
    "  datasets_root: /data/generic/CMB_Data/Datasets/\n",
    "  assets_dir: /data/generic/CMB_Data/Assets/\n",
    "file_system:\n",
    "  sim_folder_prefix: sim\n",
    "  sim_str_num_digits: 4\n",
    "  dataset_template_str: '{root}/{dataset}/'\n",
    "  default_dataset_template_str: '{root}/{dataset}/{stage}/{split}/{sim}'\n",
    "  working_dataset_template_str: '{root}/{dataset}/{working}{stage}/{split}/{sim}'\n",
    "  subdir_for_log_scripts: scripts\n",
    "  log_dataset_template_str: '{root}/{dataset}/{hydra_run_dir}'\n",
    "  log_stage_template_str: '{root}/{dataset}/{working}{stage}/{hydra_run_dir}'\n",
    "  top_level_work_template_str: '{root}/{dataset}/{stage}/{hydra_run_dir}'\n",
    "  wmap_chains_dir: WMAP/wmap_lcdm_mnu_wmap9_chains_v5\n",
    "scenario:\n",
    "  nside: 128\n",
    "  detector_freqs:\n",
    "  - 30\n",
    "  - 44\n",
    "  - 70\n",
    "  - 100\n",
    "  - 143\n",
    "  - 217\n",
    "  - 353\n",
    "  - 545\n",
    "  - 857\n",
    "  map_fields: I\n",
    "  precision: float\n",
    "  units: K_CMB\n",
    "  full_instrument:\n",
    "    30: IQU\n",
    "    44: IQU\n",
    "    70: IQU\n",
    "    100: IQU\n",
    "    143: IQU\n",
    "    217: IQU\n",
    "    353: IQU\n",
    "    545: I\n",
    "    857: I\n",
    "splits:\n",
    "  name: '1450'\n",
    "  Train:\n",
    "    n_sims: 200\n",
    "  Valid:\n",
    "    n_sims: 250\n",
    "  Test:\n",
    "    n_sims: 200\n",
    "dataset_name: I_128_1450\n",
    "working_dir: Simulation_Working/\n",
    "nside: 128\n",
    "detectors:\n",
    "- 30\n",
    "- 44\n",
    "- 70\n",
    "- 100\n",
    "- 143\n",
    "- 217\n",
    "- 353\n",
    "- 545\n",
    "- 857\n",
    "map_fields: I\n",
    "```"
   ]
  },
  {
   "cell_type": "markdown",
   "metadata": {},
   "source": [
    "We'll use just the first data instance, simulation 0 from the Train split."
   ]
  },
  {
   "cell_type": "code",
   "execution_count": 3,
   "metadata": {},
   "outputs": [],
   "source": [
    "dataset_name = cfg.dataset_name\n",
    "split = \"Train\"\n",
    "sim_num = 0"
   ]
  },
  {
   "cell_type": "markdown",
   "metadata": {},
   "source": [
    "Get the paths for the source and destination."
   ]
  },
  {
   "cell_type": "code",
   "execution_count": null,
   "metadata": {},
   "outputs": [],
   "source": [
    "# The source is defined in the cmbml_data_repo_info json files\n",
    "json_file = f\"../shared_link_jsons/cmbml_data_repo_info_{dataset_name}.json\"\n",
    "\n",
    "print(json_file)"
   ]
  },
  {
   "cell_type": "code",
   "execution_count": null,
   "metadata": {},
   "outputs": [],
   "source": [
    "# The destination is provided by a Namer object, which pulls from the hydra config\n",
    "from cmbml.core import Namer\n",
    "\n",
    "namer = Namer(cfg)\n",
    "path_template = cfg.file_system.default_dataset_template_str\n",
    "context_params = dict(\n",
    "    dataset=dataset_name,\n",
    "    stage=\"Simulation\",\n",
    "    split=split,\n",
    "    sim_num=sim_num\n",
    ")\n",
    "with namer.set_contexts(context_params):\n",
    "    dest = namer.path(path_template)\n",
    "\n",
    "print(dest)"
   ]
  },
  {
   "cell_type": "markdown",
   "metadata": {},
   "source": [
    "Result looks like:\n",
    "```\n",
    "/data/generic/CMB_Data/Datasets/I_128_1450/Simulation/Train/sim0000\n",
    "```"
   ]
  },
  {
   "cell_type": "markdown",
   "metadata": {},
   "source": [
    "And download the data"
   ]
  },
  {
   "cell_type": "code",
   "execution_count": 6,
   "metadata": {},
   "outputs": [],
   "source": [
    "from data_acquisition.use_shared_links import get_data_one_instance\n",
    "\n",
    "get_data_one_instance(json_file, dest, split, sim_num)"
   ]
  },
  {
   "cell_type": "markdown",
   "metadata": {},
   "source": [
    "# Looking at the Data"
   ]
  },
  {
   "cell_type": "markdown",
   "metadata": {},
   "source": [
    "There's a couple ways we can look at the acquired data. Let's first see the most intuitive form: sky maps. We have maps for both CMB and the observations; we'll demonstrate utilities for looking at both."
   ]
  },
  {
   "cell_type": "markdown",
   "metadata": {},
   "source": [
    "First, the CMB."
   ]
  },
  {
   "cell_type": "code",
   "execution_count": 7,
   "metadata": {},
   "outputs": [],
   "source": [
    "import healpy as hp\n",
    "from cmbml.core.asset_handlers.healpy_map_handler import HealpyMap"
   ]
  },
  {
   "cell_type": "code",
   "execution_count": 8,
   "metadata": {},
   "outputs": [],
   "source": [
    "map_handler = HealpyMap()\n",
    "# _fid is for \"fiducial\" map; the authors have since adopted the use of the term \"realization\" instead.\n",
    "#   This is an unfortunate relic that we hope to fix.\n",
    "cmb_map_path = dest / \"cmb_map_fid.fits\""
   ]
  },
  {
   "cell_type": "markdown",
   "metadata": {},
   "source": [
    "The map handler returns a numpy array with shape $\\text{N}_\\text{fields} \\times \\text{N}_\\text{side}$. Map fields refers to having either only temperature (I) or temperature and polarization data (IQU), so $\\text{N}_\\text{fields}$ is either 1 or 3. We're just going to consider temperature fields."
   ]
  },
  {
   "cell_type": "code",
   "execution_count": 9,
   "metadata": {},
   "outputs": [],
   "source": [
    "cmb_map = map_handler.read(cmb_map_path)\n",
    "cmb_T_map = cmb_map[0]  # [0] to get the Temperature (Intensity) map"
   ]
  },
  {
   "cell_type": "code",
   "execution_count": null,
   "metadata": {},
   "outputs": [],
   "source": [
    "hp.mollview(cmb_T_map, title=\"CMB Map\", cbar=True, unit=\"$\\mu K$\", min=-300, max=300)"
   ]
  },
  {
   "cell_type": "markdown",
   "metadata": {},
   "source": [
    "Let's look at the 100 GHz observation first."
   ]
  },
  {
   "cell_type": "code",
   "execution_count": null,
   "metadata": {},
   "outputs": [],
   "source": [
    "map_100GHz_path = dest / \"obs_100_map.fits\"\n",
    "map_100GHz = map_handler.read(map_100GHz_path)[0] * 1e6\n",
    "hp.mollview(map_100GHz, title=\"100 GHz Map\", cbar=True, unit=\"$\\mu K$\", min=-300, max=300)"
   ]
  },
  {
   "cell_type": "markdown",
   "metadata": {},
   "source": [
    "We still see a lot of the CMB signal showing through. Observations at other frequencies have more foreground signal."
   ]
  },
  {
   "cell_type": "code",
   "execution_count": null,
   "metadata": {},
   "outputs": [],
   "source": [
    "map_30GHz_path = dest / \"obs_30_map.fits\"\n",
    "map_30GHz = map_handler.read(map_30GHz_path)[0] * 1e6\n",
    "hp.mollview(map_30GHz, title=\"30 GHz Map\", cbar=True, unit=\"$\\mu K$\", min=-300, max=10000)"
   ]
  },
  {
   "cell_type": "code",
   "execution_count": null,
   "metadata": {},
   "outputs": [],
   "source": [
    "map_353GHz_path = dest / \"obs_353_map.fits\"\n",
    "map_353GHz = map_handler.read(map_353GHz_path)[0] * 1e6\n",
    "hp.mollview(map_353GHz, title=\"353 GHz Map\", cbar=True, unit=\"$\\mu K$\", min=-300, max=10000)"
   ]
  },
  {
   "cell_type": "markdown",
   "metadata": {},
   "source": [
    "Note that the scale bars have had to change to accomodate the different intensity of these contaminants."
   ]
  },
  {
   "cell_type": "markdown",
   "metadata": {},
   "source": [
    "The impact of these foregrounds is described in a chart from the Planck Collaboration's 2015 X publication<sup id=\"a1\">[1](#f1)</sup>, in Figure 51, reproduced here:\n",
    "\n",
    "![Foreground contaminant signal strength](../assets/readme_imgs/SEDs.png)"
   ]
  },
  {
   "cell_type": "markdown",
   "metadata": {},
   "source": [
    "# Power Spectra"
   ]
  },
  {
   "cell_type": "markdown",
   "metadata": {},
   "source": [
    "The map information is also commonly viewed in the spherical harmonics domain, as power spectra."
   ]
  },
  {
   "cell_type": "code",
   "execution_count": 14,
   "metadata": {},
   "outputs": [],
   "source": [
    "from cmbml.utils.physics_ps import get_auto_ps_result"
   ]
  },
  {
   "cell_type": "markdown",
   "metadata": {},
   "source": [
    "We get the power spectrum as a PowerSpectrum object. There is some ambiguity involved with power spectra and the way they've been processed. This object helps keep things straight.\n",
    "\n",
    "In this case, we want the \"deconvolved\" and \"scaled\" spectrum. We know the map is ground truth, and so there's no convolution to simulate instrumentation effects. We're also plotting the $\\text{D}_\\ell$, where $\\text{D}_\\ell = \\frac{\\ell(\\ell+1)}{2\\pi} \\text{C}_\\ell$ is a scaled form which is easier to view. Thus, we use the `.deconv_dl` property of the object.\n",
    "\n",
    "<a id=\"128_power_spectra_calc\"></a>"
   ]
  },
  {
   "cell_type": "code",
   "execution_count": 15,
   "metadata": {},
   "outputs": [],
   "source": [
    "cmb_ps = get_auto_ps_result(cmb_T_map,\n",
    "                            lmax=3*cfg.nside    # The resolution of the map is a bandwidth limit of the signal. The lmax is a representation of that.\n",
    "                                                # The typical value is 3 * N_side\n",
    "                            )\n",
    "# We want the Deconvolved Dl, as explained in the above markdown cell.\n",
    "cmb_ps = cmb_ps.deconv_dl"
   ]
  },
  {
   "cell_type": "code",
   "execution_count": 16,
   "metadata": {},
   "outputs": [],
   "source": [
    "import matplotlib.pyplot as plt\n",
    "import numpy as np"
   ]
  },
  {
   "cell_type": "code",
   "execution_count": null,
   "metadata": {},
   "outputs": [],
   "source": [
    "plot_params = dict(color=\"#ED1C24\", label='Realization')\n",
    "\n",
    "ylabel_rel = '$\\\\%\\\\Delta D_{\\ell}^\\\\text{TT} [\\\\mu \\\\text{K}^2]$'\n",
    "ells = np.arange(cmb_ps.shape[0])\n",
    "\n",
    "cmb_ps = cmb_ps[2:]\n",
    "ells = ells [2:]\n",
    "\n",
    "plt.plot(ells, cmb_ps, **plot_params)\n",
    "plt.ylabel('$D_{\\ell}^\\\\text{TT} [\\\\mu \\\\text{K}^2]$')\n",
    "plt.title(f'Temperature Power Spectrum of Ground Truth CMB from the split {split}, simulation {sim_num}')\n",
    "plt.xlabel('$\\\\ell$');"
   ]
  },
  {
   "cell_type": "markdown",
   "metadata": {},
   "source": [
    "It may not look exactly like what you expect (from Planck's official results<sup id=\"a2\">[2](#f2)</sup>):\n",
    "\n",
    "![Planck's official power spectrum](../assets/readme_imgs/Planck_Power_Spectrum_pillars.jpg)\n",
    "\n",
    "There are a few reasons for this. The first of these is scale. We've used a smaller asset ($\\text{N}_\\text{side}=128$) for demonstration, which only contains meaningful information up to roughly $3 \\times \\text{N}_\\text{side} = 384$, though accuracy decreases above $2\\times \\text{N}_\\text{side}$. Note that in the image above, the top axis is labelled $\\ell$, and the horizontal axis is split, using logarithmic scaling below $\\ell=30$.\n",
    "\n",
    "The second, causing the jaggedness, is that this map is a realization (random instantiation) of the CMB map from the ground truth theory power spectrum. There's much more to discuss on the implications of how to properly compare model performance in light of this."
   ]
  },
  {
   "cell_type": "markdown",
   "metadata": {},
   "source": [
    "# Looking at the Data II: 512 Resolution Maps"
   ]
  },
  {
   "cell_type": "markdown",
   "metadata": {},
   "source": [
    "For comparison, we load and show an instance from the main dataset, IQU-512-1450. Each instance for this dataset is 600 MB, as compared to the 40 MB for the I-128-1450 dataset."
   ]
  },
  {
   "cell_type": "code",
   "execution_count": 18,
   "metadata": {},
   "outputs": [],
   "source": [
    "# Reset the global state, just for tidyness sake.\n",
    "\n",
    "%reset"
   ]
  },
  {
   "cell_type": "code",
   "execution_count": 19,
   "metadata": {},
   "outputs": [],
   "source": [
    "import os\n",
    "os.environ['CMB_ML_LOCAL_SYSTEM'] = 'generic_lab'\n",
    "\n",
    "import hydra\n",
    "from hydra import compose, initialize\n",
    "from omegaconf import OmegaConf\n",
    "import numpy as np\n",
    "import healpy as hp\n",
    "import matplotlib.pyplot as plt\n",
    "\n",
    "from cmbml.core import Namer\n",
    "from cmbml.core.asset_handlers.healpy_map_handler import HealpyMap\n",
    "from cmbml.utils.physics_ps import get_auto_ps_result\n",
    "from data_acquisition.use_shared_links import get_data_one_instance"
   ]
  },
  {
   "cell_type": "markdown",
   "metadata": {},
   "source": [
    "The following cell sets up access to the dataset."
   ]
  },
  {
   "cell_type": "code",
   "execution_count": 20,
   "metadata": {},
   "outputs": [],
   "source": [
    "# Reinitialize Hydra, just in case\n",
    "hydra.core.global_hydra.GlobalHydra.instance().clear()\n",
    "initialize(version_base=None, config_path=\"../cfg\")\n",
    "\n",
    "# Load a config with resolution 512 information\n",
    "cfg = compose(config_name='config_demo_dataset.yaml',\n",
    "              overrides=['nside=512', 'map_fields=\"IQU\"'])\n",
    "\n",
    "dataset_name = cfg.dataset_name\n",
    "split = \"Train\"\n",
    "sim_num = 0\n",
    "\n",
    "json_file = f\"../shared_link_jsons/cmbml_data_repo_info_{dataset_name}.json\"\n",
    "\n",
    "namer = Namer(cfg)\n",
    "path_template = cfg.file_system.default_dataset_template_str\n",
    "context_params = dict(\n",
    "    dataset=dataset_name,\n",
    "    stage=\"Simulation\",\n",
    "    split=split,\n",
    "    sim_num=sim_num,\n",
    ")\n",
    "\n",
    "with namer.set_contexts(context_params):\n",
    "    dest = namer.path(path_template)"
   ]
  },
  {
   "cell_type": "markdown",
   "metadata": {},
   "source": [
    "Download the dataset (which includes ensuring the MD5 checksum matches, extracting data from the archive, and deleting the tar archive)."
   ]
  },
  {
   "cell_type": "code",
   "execution_count": 21,
   "metadata": {},
   "outputs": [],
   "source": [
    "get_data_one_instance(json_file, dest, split, sim_num)  # This file is ~600 MB"
   ]
  },
  {
   "cell_type": "markdown",
   "metadata": {},
   "source": [
    "The map does not look much different; the differences are at finer scales."
   ]
  },
  {
   "cell_type": "code",
   "execution_count": null,
   "metadata": {},
   "outputs": [],
   "source": [
    "map_handler = HealpyMap()\n",
    "cmb_map = map_handler.read(dest / \"cmb_map_fid.fits\")\n",
    "cmb_T_map = cmb_map[0]  # [0] to get the Temperature (Intensity) map\n",
    "hp.mollview(cmb_T_map, title=\"CMB Map\", cbar=True, unit=\"$\\mu K$\", min=-300, max=300)"
   ]
  },
  {
   "cell_type": "markdown",
   "metadata": {},
   "source": [
    "The power spectrum reveals the differences. For the curious, try running the cell in the 128 section of this notebook ([link](#128_power_spectra_calc)), but change the lmax to `12*cfg.nside`; note that you'll have to restart your kernel and rerun all cells above it. For the-only-sorta-curious: it's messed up."
   ]
  },
  {
   "cell_type": "code",
   "execution_count": null,
   "metadata": {},
   "outputs": [],
   "source": [
    "cmb_ps = get_auto_ps_result(cmb_T_map,\n",
    "                            lmax=3*cfg.nside)\n",
    "\n",
    "cmb_ps = cmb_ps.deconv_dl\n",
    "\n",
    "plot_params = dict(color=\"#ED1C24\", label='Realization')\n",
    "ylabel_rel = '$\\\\%\\\\Delta D_{\\ell}^\\\\text{TT} [\\\\mu \\\\text{K}^2]$'\n",
    "ells = np.arange(cmb_ps.shape[0])\n",
    "\n",
    "cmb_ps = cmb_ps[2:]\n",
    "ells = ells [2:]\n",
    "\n",
    "plt.plot(ells, cmb_ps, **plot_params)\n",
    "plt.ylabel('$D_{\\ell}^\\\\text{TT} [\\\\mu \\\\text{K}^2]$')\n",
    "plt.title(f'Temperature Power Spectrum of Ground Truth CMB from the split {split}, simulation {sim_num}')\n",
    "plt.xlabel('$\\\\ell$');"
   ]
  },
  {
   "cell_type": "markdown",
   "metadata": {},
   "source": [
    "# Conclusion\n",
    "\n",
    "We've downloaded data and gotten a small preview of how to look at it.\n",
    "\n",
    "Now, when you download the rest of the dataset, you'll be a bit more familiar with what you see.\n",
    "\n",
    "More in-depth looks at using models and analysis code can be found in the `paper_figures/` directory:\n",
    "- [dataset_results.ipynb](../paper_figures/dataset_results.ipynb): Plotting maps after cleaning\n",
    "- [make_component_maps.ipynb](../paper_figures/make_component_maps.ipynb): Creates single-component maps, for use in other analysis (next line)\n",
    "- [paper_components.ipynb](../paper_figures/paper_components.ipynb): Creates figures showing single components (requires previous line having been run)\n",
    "- [paper_figure_planck_obs_and_target.ipynb](../paper_figures/paper_figure_planck_obs_and_target.ipynb): Creates figures of Planck's observation maps and predicted CMB\n",
    "- [paper_figure_planck_variance.ipynb](../paper_figures/paper_figure_planck_variance.ipynb): Creates the figure of Planck's variance map at 100 GHz\n",
    "- [planck_fwhm_detail.ipynb](../paper_figures/planck_fwhm_detail.ipynb): Creates figures with the detail view of Plancks's maps, such that the effect of different FWHMs is visible\n",
    "\n",
    "For actual implementation of a model, take a look in the executors for the various pipelines in `cmbml/<pipeline>/stage_executors`, for each of the `cmbnncs_local`, `pyilc_local`, and `analysis` pipelines.\n",
    "\n",
    "We hope to provide more guided examples in the future. Your feedback on this is welcomed!\n",
    "\n",
    "Either:\n",
    "- [We apologize for the inconvenience. Some options are currently unavailable, but will be restored soon.]\n",
    "<!-- - Use the script [IQU-512-1450 script](../get_data/get_cmb-ml-IQU-512-1450.py) -->\n",
    "<!-- - Use the script [I-128-1450 script](../get_data/get_cmb-ml-I-128-1450.py) -->\n",
    "- Or generate your own simulations using [main_sims.py](../main_sims.py)"
   ]
  },
  {
   "cell_type": "markdown",
   "metadata": {},
   "source": [
    "## References\n",
    "\n",
    "<p id=\"f1\"><sup><a href=\"#a1\">1</a></sup> R. Adam, P. A. Ade, N. Aghanim, M. Alves, M. Arnaud, M. Ashdown, J. Aumont, C. Baccigalupi, A. Banday, R. Barreiro, et al. Planck 2015 Results-X. Diffuse Component Separation Foreground Maps. Astronomy & Astrophysics, 594:A10, 2016\n",
    "\n",
    "<p id=\"f2\"><sup><a href=\"#a2\">2</a></sup> <a href=\"https://www.esa.int/ESA_Multimedia/Images/2013/03/Planck_Power_Spectrum\">https://www.esa.int/ESA_Multimedia/Images/2013/03/Planck_Power_Spectrum</a>"
   ]
  }
 ],
 "metadata": {
  "kernelspec": {
   "display_name": "cmbml_namaster",
   "language": "python",
   "name": "python3"
  },
  "language_info": {
   "codemirror_mode": {
    "name": "ipython",
    "version": 3
   },
   "file_extension": ".py",
   "mimetype": "text/x-python",
   "name": "python",
   "nbconvert_exporter": "python",
   "pygments_lexer": "ipython3",
   "version": "3.9.19"
  }
 },
 "nbformat": 4,
 "nbformat_minor": 2
}

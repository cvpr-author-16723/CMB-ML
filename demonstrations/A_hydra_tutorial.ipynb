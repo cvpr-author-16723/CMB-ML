{
 "cells": [
  {
   "cell_type": "markdown",
   "metadata": {},
   "source": [
    "# Hydra Configurations Tutorial"
   ]
  },
  {
   "cell_type": "markdown",
   "metadata": {},
   "source": [
    "Hydra is a tool developed by Meta to allow for elegant configuration management of complex programs.\n",
    "\n",
    "In CMB-ML, configurations are used for typical things, like file management and model parameters, as well as setup of the simulations and structure of the pipeline.\n",
    "\n",
    "The following cells will show a basic overview of hydra and how it is utilized in the repository."
   ]
  },
  {
   "cell_type": "markdown",
   "metadata": {},
   "source": [
    "## Simple Configurations"
   ]
  },
  {
   "cell_type": "code",
   "execution_count": 1,
   "metadata": {},
   "outputs": [],
   "source": [
    "import hydra\n",
    "from hydra import compose, initialize\n",
    "from omegaconf import DictConfig, OmegaConf"
   ]
  },
  {
   "cell_type": "markdown",
   "metadata": {},
   "source": [
    "Hydra allows us to more simply load configurations.\n",
    "\n",
    "Consider the hydra configuration `tutorial_configs/simple.yaml`:\n",
    "\n",
    "``` yaml\n",
    "some_string: abc\n",
    "some_number: 3\n",
    "```\n",
    "\n",
    "We can pull simple strings and scalars from the configuration. We can access the `cfg` object either as a dict or by using dot notation:"
   ]
  },
  {
   "cell_type": "code",
   "execution_count": 2,
   "metadata": {},
   "outputs": [
    {
     "name": "stdout",
     "output_type": "stream",
     "text": [
      "abc\n",
      "abc\n",
      "abc\n"
     ]
    }
   ],
   "source": [
    "with initialize(version_base=None, config_path=\"tutorial_configs\"):\n",
    "    cfg = compose(config_name='simple')\n",
    "    n_repeats = cfg['some_number']\n",
    "    my_text = cfg.some_string\n",
    "    for i in range(n_repeats):\n",
    "        print(my_text)"
   ]
  },
  {
   "cell_type": "markdown",
   "metadata": {},
   "source": [
    "## Nested configurations\n",
    "\n",
    "Consider the Hydra configuration `tutorial_configs/simple2.yaml`:\n",
    "\n",
    "``` yaml\n",
    "shapes:\n",
    "  - icon1:\n",
    "    shape: square\n",
    "    color: blue\n",
    "  - icon2:\n",
    "    shape: circle\n",
    "    color: red\n",
    "```\n",
    "\n",
    "We use this to show how dot notation is used for nested configurations."
   ]
  },
  {
   "cell_type": "code",
   "execution_count": 3,
   "metadata": {},
   "outputs": [
    {
     "name": "stdout",
     "output_type": "stream",
     "text": [
      "🟦\n",
      "🔴\n"
     ]
    }
   ],
   "source": [
    "icon_mapping = {\n",
    "    ('square', 'blue'): '🟦',\n",
    "    ('circle', 'red'): '🔴',\n",
    "    ('square', 'red'): '🟥',\n",
    "    ('circle', 'blue'): '🔵'\n",
    "}\n",
    "with initialize(version_base=None, config_path=\"tutorial_configs\"):\n",
    "    cfg = compose(config_name='simple2')\n",
    "\n",
    "    for icon in cfg.shapes:\n",
    "        print(icon_mapping[icon.shape, icon.color])"
   ]
  },
  {
   "cell_type": "markdown",
   "metadata": {},
   "source": [
    "### The defaults list\n",
    "\n",
    "It can also compose configurations, using a defaults list.\n",
    "\n",
    "Consider the `tutorial_configs/defaults_example.yaml`:\n",
    "\n",
    "```yaml\n",
    "defaults:\n",
    "  - scenario: scenario_512\n",
    "  - splits: all\n",
    "  - _self_\n",
    "\n",
    "preset_strings : [\"d9\", \"s4\", \"f1\"]\n",
    "```\n",
    "\n",
    "Because we have the following directory structure in tutorial configs:\n",
    "```\n",
    "├─ tutorial_configs\n",
    "│  ├─ scenario\n",
    "|  |   ├─ scenario_128.yaml\n",
    "|  |   └─ scenario_512.yaml\n",
    "│  ├─ splits\n",
    "│  │   ├─ 1-1.yaml\n",
    "│  │   └─ all.yaml\n",
    "│  └─ sample_cfg.yaml\n",
    "└── tutorial notebooks here\n",
    "```\n",
    "\n",
    "When we specify the `sample_cfg.yaml` configuration, it automatically composes the following:"
   ]
  },
  {
   "cell_type": "code",
   "execution_count": 4,
   "metadata": {},
   "outputs": [
    {
     "name": "stdout",
     "output_type": "stream",
     "text": [
      "scenario:\n",
      "  nside: 512\n",
      "  map_fields: IQU\n",
      "  precision: float\n",
      "  units: uK_CMB\n",
      "splits:\n",
      "  name: '1450'\n",
      "  Train:\n",
      "    n_sims: 1000\n",
      "  Valid:\n",
      "    n_sims: 250\n",
      "  Test:\n",
      "    n_sims: 200\n",
      "preset_strings:\n",
      "- d9\n",
      "- s4\n",
      "- f1\n",
      "\n"
     ]
    }
   ],
   "source": [
    "with initialize(version_base=None, config_path=\"tutorial_configs\"):\n",
    "    cfg = compose(config_name='sample_cfg')\n",
    "    print(OmegaConf.to_yaml(cfg))"
   ]
  },
  {
   "cell_type": "markdown",
   "metadata": {},
   "source": [
    "We can override these default configurations and use a different file from our directory."
   ]
  },
  {
   "cell_type": "code",
   "execution_count": 5,
   "metadata": {},
   "outputs": [
    {
     "name": "stdout",
     "output_type": "stream",
     "text": [
      "scenario:\n",
      "  nside: 128\n",
      "  map_fields: I\n",
      "  precision: float\n",
      "  units: uK_CMB\n",
      "splits:\n",
      "  name: 1-1\n",
      "  Test:\n",
      "    n_sims: 1\n",
      "preset_strings:\n",
      "- d9\n",
      "- s4\n",
      "- f1\n",
      "\n"
     ]
    }
   ],
   "source": [
    "with initialize(version_base=None, config_path=\"tutorial_configs\"):\n",
    "    cfg = compose(config_name='sample_cfg',\n",
    "                  overrides=['scenario=scenario_128', 'splits=\"1-1\"'])\n",
    "    print(OmegaConf.to_yaml(cfg))"
   ]
  },
  {
   "cell_type": "markdown",
   "metadata": {},
   "source": [
    "### Instantiation Methods\n",
    "\n",
    "There are many ways to instantiate Hydra configs.\n",
    "\n",
    "In the remaining Jupyter notebooks, we use a different instantiation method to make them global.\n",
    "\n",
    "In all the scripts we use a similar method. Wrapping the `main()` entrypoint to get the Hydra configuration also allows us to let Hydra manage logging. See [this python module](./B_hydra_script_tutorial.py) for an example."
   ]
  },
  {
   "cell_type": "code",
   "execution_count": 6,
   "metadata": {},
   "outputs": [
    {
     "name": "stdout",
     "output_type": "stream",
     "text": [
      "scenario:\n",
      "  nside: 512\n",
      "  map_fields: IQU\n",
      "  precision: float\n",
      "  units: uK_CMB\n",
      "splits:\n",
      "  name: '1450'\n",
      "  Train:\n",
      "    n_sims: 1000\n",
      "  Valid:\n",
      "    n_sims: 250\n",
      "  Test:\n",
      "    n_sims: 200\n",
      "preset_strings:\n",
      "- d9\n",
      "- s4\n",
      "- f1\n",
      "\n"
     ]
    }
   ],
   "source": [
    "hydra.core.global_hydra.GlobalHydra.instance().clear() # if re-initialize is needed, clear the global hydra instance (in case of multiple calls to initialize)\n",
    "\n",
    "initialize(version_base=None, config_path=\"tutorial_configs\")\n",
    "\n",
    "cfg = compose(config_name='sample_cfg')\n",
    "\n",
    "print(OmegaConf.to_yaml(cfg))"
   ]
  },
  {
   "cell_type": "markdown",
   "metadata": {},
   "source": [
    "# Next steps\n",
    "\n",
    "It may seem strange that this is where we begin the tutorial but we'll be using Hydra for the automated scripts.\n",
    "\n",
    "For more information on how we use Hydra configs, refer to:\n",
    "- [Hydra documentation](https://hydra.cc/docs/intro/)\n",
    "- [The top level configs README](../cfg/README.md)\n",
    "- [The pipeline configs README](../cfg/pipeline/README.md)\n",
    "\n",
    "Continue with [setting up your local system](./C_Setting_up_local.ipynb)"
   ]
  }
 ],
 "metadata": {
  "kernelspec": {
   "display_name": "cmbml_namaster",
   "language": "python",
   "name": "python3"
  },
  "language_info": {
   "codemirror_mode": {
    "name": "ipython",
    "version": 3
   },
   "file_extension": ".py",
   "mimetype": "text/x-python",
   "name": "python",
   "nbconvert_exporter": "python",
   "pygments_lexer": "ipython3",
   "version": "3.9.19"
  }
 },
 "nbformat": 4,
 "nbformat_minor": 2
}
